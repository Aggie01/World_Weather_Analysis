{
 "cells": [
  {
   "cell_type": "code",
   "execution_count": 1,
   "id": "cf90e165",
   "metadata": {},
   "outputs": [],
   "source": [
    "# Import the random module.\n",
    "import random"
   ]
  },
  {
   "cell_type": "code",
   "execution_count": 2,
   "id": "6c32571d",
   "metadata": {},
   "outputs": [
    {
     "data": {
      "text/plain": [
       "-24"
      ]
     },
     "execution_count": 2,
     "metadata": {},
     "output_type": "execute_result"
    }
   ],
   "source": [
    "random.randint(-90,90)"
   ]
  },
  {
   "cell_type": "code",
   "execution_count": 5,
   "id": "756bf716",
   "metadata": {},
   "outputs": [
    {
     "data": {
      "text/plain": [
       "0.10763156879308189"
      ]
     },
     "execution_count": 5,
     "metadata": {},
     "output_type": "execute_result"
    }
   ],
   "source": [
    "random.random ()"
   ]
  },
  {
   "cell_type": "code",
   "execution_count": 7,
   "id": "7641c375",
   "metadata": {},
   "outputs": [
    {
     "data": {
      "text/plain": [
       "-12.610439303304355"
      ]
     },
     "execution_count": 7,
     "metadata": {},
     "output_type": "execute_result"
    }
   ],
   "source": [
    "random_number=random.randint(-90,89)+random.random()\n",
    "random_number"
   ]
  },
  {
   "cell_type": "code",
   "execution_count": 8,
   "id": "3e9782d8",
   "metadata": {},
   "outputs": [
    {
     "data": {
      "text/plain": [
       "-84"
      ]
     },
     "execution_count": 8,
     "metadata": {},
     "output_type": "execute_result"
    }
   ],
   "source": [
    "random.randrange(-90, 90, step=3)"
   ]
  },
  {
   "cell_type": "code",
   "execution_count": 9,
   "id": "591bdb75",
   "metadata": {},
   "outputs": [],
   "source": [
    "# Import the NumPy module.\n",
    "import numpy as np"
   ]
  },
  {
   "cell_type": "code",
   "execution_count": 10,
   "id": "2b1cd40a",
   "metadata": {},
   "outputs": [
    {
     "data": {
      "text/plain": [
       "18.521273636399087"
      ]
     },
     "execution_count": 10,
     "metadata": {},
     "output_type": "execute_result"
    }
   ],
   "source": [
    "np.random.uniform(-90.000, 90.000)"
   ]
  },
  {
   "cell_type": "code",
   "execution_count": 11,
   "id": "415e42b7",
   "metadata": {},
   "outputs": [
    {
     "data": {
      "text/plain": [
       "86.45714968825826"
      ]
     },
     "execution_count": 11,
     "metadata": {},
     "output_type": "execute_result"
    }
   ],
   "source": [
    "#creating same as above but different way\n",
    "np.random.uniform(low=-90, high=90)"
   ]
  },
  {
   "cell_type": "code",
   "execution_count": 12,
   "id": "8cbca6c4",
   "metadata": {},
   "outputs": [
    {
     "data": {
      "text/plain": [
       "array([ 22.09034541, -39.67121992,  -6.55632892,  -6.80343203,\n",
       "       -59.41691116, -42.53714424, -52.22147877, -81.51207138,\n",
       "       -88.97488341, -59.17427381, -54.2670299 ,   9.51509556,\n",
       "        71.11337918,  56.73097859,  88.81439833,  37.60853871,\n",
       "        35.06202101, -18.11856737, -41.60319424, -54.43533204,\n",
       "       -24.97967829, -61.15314389,  33.85117263,  80.20586351,\n",
       "        80.80167188,  31.98552183, -11.17541061,  34.54347813,\n",
       "        54.83810213,   6.08341564,  86.59195673,  67.71571786,\n",
       "        -3.73358005,  61.22738118,  56.68387136, -11.70611577,\n",
       "        46.16849721, -22.7193386 ,  64.29341202,  27.31785481,\n",
       "       -75.47645496,  47.54433781, -36.42261758, -44.88558141,\n",
       "       -20.67768869,  64.1389844 ,  19.7632662 ,  11.88409665,\n",
       "       -47.27138808, -85.41199534])"
      ]
     },
     "execution_count": 12,
     "metadata": {},
     "output_type": "execute_result"
    }
   ],
   "source": [
    "np.random.uniform(-90.000, 90.000, size=50)"
   ]
  },
  {
   "cell_type": "code",
   "execution_count": 13,
   "id": "b5421840",
   "metadata": {},
   "outputs": [],
   "source": [
    "# Import timeit. This shows how long it takes to run something\n",
    "import timeit"
   ]
  },
  {
   "cell_type": "code",
   "execution_count": 14,
   "id": "d97c545a",
   "metadata": {},
   "outputs": [
    {
     "name": "stdout",
     "output_type": "stream",
     "text": [
      "12.5 µs ± 271 ns per loop (mean ± std. dev. of 7 runs, 100000 loops each)\n"
     ]
    }
   ],
   "source": [
    "%timeit np.random.uniform(-90.000, 90.000, size=1500)"
   ]
  },
  {
   "cell_type": "code",
   "execution_count": null,
   "id": "2b9bcdec",
   "metadata": {},
   "outputs": [],
   "source": []
  }
 ],
 "metadata": {
  "kernelspec": {
   "display_name": "PythonData",
   "language": "python",
   "name": "pythondata"
  },
  "language_info": {
   "codemirror_mode": {
    "name": "ipython",
    "version": 3
   },
   "file_extension": ".py",
   "mimetype": "text/x-python",
   "name": "python",
   "nbconvert_exporter": "python",
   "pygments_lexer": "ipython3",
   "version": "3.7.13"
  }
 },
 "nbformat": 4,
 "nbformat_minor": 5
}
